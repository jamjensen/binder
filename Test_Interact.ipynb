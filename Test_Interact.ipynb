{
 "cells": [
  {
   "cell_type": "code",
   "execution_count": null,
   "metadata": {
    "extensions": {
     "jupyter_dashboards": {
      "version": 1,
      "views": {
       "grid_default": {},
       "report_default": {}
      }
     }
    }
   },
   "outputs": [],
   "source": [
    "\n",
    "\n",
    "# %%html\n",
    "# <script>\n",
    "#     // AUTORUN ALL CELLS ON NOTEBOOK-LOAD!\n",
    "#     require(\n",
    "#         ['base/js/namespace', 'jquery'], \n",
    "#         function(jupyter, $) {\n",
    "#             $(jupyter.events).on(\"kernel_ready.Kernel\", function () {\n",
    "#                 console.log(\"Auto-running all cells-below...\");\n",
    "#                 jupyter.actions.call('jupyter-notebook:run-all-cells-below');\n",
    "#                 jupyter.actions.call('jupyter-notebook:save-notebook');\n",
    "#             });\n",
    "#         }\n",
    "#     );\n",
    "# </script>"
   ]
  },
  {
   "cell_type": "code",
   "execution_count": null,
   "metadata": {
    "extensions": {
     "jupyter_dashboards": {
      "version": 1,
      "views": {
       "grid_default": {},
       "report_default": {}
      }
     }
    }
   },
   "outputs": [],
   "source": [
    "%%html\n",
    "<style>\n",
    "div.input {\n",
    "    display:none;\n",
    "}\n",
    "</style>"
   ]
  },
  {
   "cell_type": "code",
   "execution_count": null,
   "metadata": {
    "extensions": {
     "jupyter_dashboards": {
      "version": 1,
      "views": {
       "grid_default": {},
       "report_default": {}
      }
     }
    },
    "init_cell": true
   },
   "outputs": [],
   "source": [
    "from sodapy import Socrata\n",
    "from plotly import graph_objects as go\n",
    "from datetime import datetime, date, time, timedelta\n",
    "from datetime import datetime\n",
    "# from highcharts import Highchart\n",
    "import pandas as pd\n",
    "import seaborn as sns\n",
    "import matplotlib.pyplot as plt\n",
    "import math\n",
    "import plotly.express as px\n",
    "import datetime\n",
    "import numpy as np\n",
    "import utils\n",
    "import plotly\n",
    "from ipywidgets import widgets\n",
    "import ipywidgets\n",
    "from ipywidgets import interact\n",
    "%matplotlib inline\n",
    "\n",
    "from matplotlib.dates import DateFormatter\n",
    "pd.options.display.max_colwidth = 200\n",
    "import warnings\n",
    "warnings.filterwarnings('ignore')\n",
    "\n",
    "print('yay it worked!')"
   ]
  },
  {
   "cell_type": "code",
   "execution_count": null,
   "metadata": {
    "extensions": {
     "jupyter_dashboards": {
      "version": 1,
      "views": {
       "grid_default": {},
       "report_default": {}
      }
     }
    }
   },
   "outputs": [],
   "source": [
    "## Build client\n",
    "usrname = \"jjensen@mointern.nyc.gov\"\n",
    "pword = \"Timspw19!\"\n",
    "client = Socrata(\"data.cityofnewyork.us\",\"TnnbmTZvKbFz7tJ4NpzkfUG6C\", username=usrname, password=pword)\n",
    "\n",
    "## Make API calls\n",
    "# auth_json_downloads = client.get(\"beb8-u7wp\", limit=2000000)\n",
    "# auth_json_dailyviews = client.get(\"qiif-mxcx\", limit=50000)\n",
    "# auth_json_authentications = client.get(\"8aih-pmax\", limit = 20000)\n",
    "auth_json_datasetfacts = client.get(\"gzid-z3nh\", limit = 5000)\n",
    "auth_json_public_inventory = client.get(\"5tqd-u88y\", limit=5000)\n",
    "auth_json_api_calls = client.get(\"u7pi-wq4y\", limit=2000)\n",
    "auth_json_the_plan = client.get(\"qj2z-ibhs\", limit=5000)\n",
    "\n",
    "\n",
    "## Get the private asset inventory\n",
    "## only necessary because the columns `asset_type` is only in the private and not the public asset inventory\n",
    "auth_json_asset_inventory = client.get(\"r8cp-r4rc\", limit = 40000)"
   ]
  },
  {
   "cell_type": "code",
   "execution_count": null,
   "metadata": {
    "extensions": {
     "jupyter_dashboards": {
      "version": 1,
      "views": {
       "grid_default": {},
       "report_default": {}
      }
     }
    }
   },
   "outputs": [],
   "source": [
    "## Convert json files into pandas dataframes\n",
    "# dv = pd.DataFrame(auth_json_dailyviews)\n",
    "# dauth = pd.DataFrame(auth_json_authentications)\n",
    "dfacts = pd.DataFrame(auth_json_datasetfacts)\n",
    "# ddownloads = pd.DataFrame(auth_json_downloads)\n",
    "public = pd.DataFrame(auth_json_public_inventory)\n",
    "private = pd.DataFrame(auth_json_asset_inventory)\n",
    "the_plan = pd.DataFrame(auth_json_the_plan)"
   ]
  },
  {
   "cell_type": "code",
   "execution_count": null,
   "metadata": {
    "extensions": {
     "jupyter_dashboards": {
      "version": 1,
      "views": {
       "grid_default": {},
       "report_default": {}
      }
     }
    }
   },
   "outputs": [],
   "source": [
    "# Create merged_filter, the dataframe that has only assets defined as datasets\n",
    "filter_list = ['dataset','filter', 'gis map']\n",
    "## Cleaning dates entered in the wrong format\n",
    "bad_index_list = list(public.query('date_made_public == \"August 9, 2-019\"').index)\n",
    "for val in bad_index_list:\n",
    "    public.at[val, 'date_made_public'] = '8/9/2019'\n",
    "\n",
    "# need to merge in private so that we can get the asset type\n",
    "dupes = private[['u_id', 'agency', 'type','name', 'parent_uid','derived_view']]\n",
    "\n",
    "public = utils.date_transformation(public, 'date_made_public')\n",
    "upUntilfy20 = utils.apply_date_mask(public, 'date_made_public', fy=False)\n",
    "merged_total = pd.merge(public, dupes, how='left', on='u_id')\n",
    "merged_filter = merged_total[merged_total.type.isin(filter_list)]\n",
    "\n",
    "\n",
    "# There are only 87 derived assets, so our total number of datasets would greatly increase \n",
    "merged_total[['name_x', 'derived_view']].query('derived_view == \"true\"')"
   ]
  },
  {
   "cell_type": "code",
   "execution_count": null,
   "metadata": {
    "extensions": {
     "jupyter_dashboards": {
      "version": 1,
      "views": {
       "grid_default": {},
       "report_default": {}
      }
     }
    }
   },
   "outputs": [],
   "source": [
    "public['last_update_date_data'] = pd.to_datetime(public['last_update_date_data'])\n",
    "merged_filter['last_update_date_data'] = pd.to_datetime(public['last_update_date_data'])\n",
    "merged_filter['last_update_date_data'] = merged_filter['last_update_date_data'].dt.tz_convert(None)"
   ]
  },
  {
   "cell_type": "code",
   "execution_count": null,
   "metadata": {
    "extensions": {
     "jupyter_dashboards": {
      "version": 1,
      "views": {
       "grid_default": {},
       "report_default": {}
      }
     }
    }
   },
   "outputs": [],
   "source": [
    "# merged filter is a copy of the asset inventory that is filtered to only include assets defined as datasets\n",
    "freshness_df = merged_filter[['name_x','agency_x','u_id','update_frequency',\\\n",
    "                              'date_made_public','last_update_date_data','automation']]\n",
    "\n",
    "# Remove datasets with update frequencies for which we cannot determine freshness\n",
    "freshness_df = freshness_df[~freshness_df['update_frequency'].isin(['Historical Data', 'As needed'])].reset_index()\n",
    "freshness_df.rename(columns={'agency_x':'agency'}, inplace=True)\n",
    "\n",
    "# Removes automated datasets \n",
    "# freshness_df = freshness_df[freshness_df['automation'] != \"Yes\"]"
   ]
  },
  {
   "cell_type": "code",
   "execution_count": null,
   "metadata": {
    "extensions": {
     "jupyter_dashboards": {
      "version": 1,
      "views": {
       "grid_default": {},
       "report_default": {}
      }
     }
    }
   },
   "outputs": [],
   "source": [
    "FREQ_DICTIONARY = {\n",
    "    \n",
    "    'Daily' : [np.timedelta64(1, 'D')],\n",
    "    'Weekly' : [np.timedelta64(1, 'W')],\n",
    "    'Biweekly ': [np.timedelta64(4, 'D')],\n",
    "    'Monthly': [np.timedelta64(1,'M')],\n",
    "    'Quarterly':[np.timedelta64(3, 'M')],\n",
    "    '2 to 4 times per year' : [np.timedelta64(6, 'M')],\n",
    "    'Triannually': [np.timedelta64(4, 'M')],\n",
    "    'Biannually ': [np.timedelta64(6, 'M')],\n",
    "    'Annually': [np.timedelta64(1, 'Y')],\n",
    "    'Weekdays': [np.timedelta64(2, 'D')],\n",
    "    'Hourly': [np.timedelta64(1, 'h')],\n",
    "    'Several times per day': [np.timedelta64(1, 'D')]\n",
    "}\n",
    "\n",
    "def calculate_freshness(df, date_col, fresh_col):\n",
    "    '''\n",
    "    Returns the asset inventory dataframe with an additional true/false column that\n",
    "    indicates whether or not a dataset is fresh. Fresh is defined as having a \n",
    "    last_update_date_data timestamp within the stated update frequency\n",
    "    \n",
    "    Inputs:\n",
    "        df: a dataframe, one that has filtered inapplicable update frequencies\n",
    "            and all automated datasets\n",
    "        date_col: last updated timestamp\n",
    "        fresh_col: name of the binary fresh or stale column\n",
    "    Returns:\n",
    "        dataframe indicating if each dataset is stale or fresh\n",
    "    '''\n",
    "    \n",
    "    df[fresh_col] = np.nan\n",
    "    \n",
    "    for frequency in df.update_frequency.unique():\n",
    "                    \n",
    "        \n",
    "        temp = df.query('update_frequency == \"{}\"'.format(frequency))  \n",
    "        today = datetime.datetime.today()\n",
    "        idx = temp.index\n",
    "        \n",
    "#         if frequency == 'Weekdays':\n",
    "#             np.busday_count(today, temp['last_update_date_data'])\n",
    "            \n",
    "        df.loc[idx, fresh_col] = (today - temp['last_update_date_data']) < FREQ_DICTIONARY[frequency][0]\n",
    "    \n",
    "    return df"
   ]
  },
  {
   "cell_type": "code",
   "execution_count": null,
   "metadata": {
    "extensions": {
     "jupyter_dashboards": {
      "version": 1,
      "views": {
       "grid_default": {},
       "report_default": {}
      }
     }
    }
   },
   "outputs": [],
   "source": [
    "# Percent of datasets fresh or stale\n",
    "fresh_df = calculate_freshness(freshness_df, 'last_update_date_data', 'fresh')\n",
    "fresh_df['agency'] = fresh_df['agency'].astype(str)\n",
    "\n",
    "# get index value for all automated datasets\n",
    "auto_idx = np.where(freshness_df['automation']=='Yes')\n",
    "\n",
    "# update fresh_df to be true for all automated datasets\n",
    "fresh_df.fresh.iloc[auto_idx] = True\n",
    "\n",
    "pct_fresh = fresh_df.groupby('fresh').size().reset_index().rename(columns={0:'count'})\n",
    "pct_fresh['pct'] = pct_fresh['count'].apply(lambda x: x/pct_fresh['count'].sum())\n",
    "print(pct_fresh)\n",
    "print('\\n\\n')\n",
    "\n",
    "# Stale datasets by update_frequency\n",
    "uf = fresh_df.query('fresh == False').groupby('update_frequency')\\\n",
    "    .size().reset_index().rename(columns={0:'Count'}).sort_values(by='Count')\n",
    "\n",
    " # 324 are annual, which could mean they're mistagged and should be historical\n",
    "    \n",
    "colors = ['gold', 'mediumturquoise', 'darkorange', 'lightgreen']\n",
    "\n",
    "\n",
    "labels = uf['update_frequency']\n",
    "values = uf['Count']\n",
    "\n",
    "fig = go.Figure(data=[go.Pie(labels=labels, values=values)])\n",
    "\n",
    "fig.update_traces(hoverinfo='label+value', textinfo='percent', textfont_size=20,\n",
    "                  marker=dict(colors=colors, line=dict(color='#000000', width=2)))\n",
    "\n",
    "fig.update_layout(\n",
    "     title=go.layout.Title(\n",
    "        text=\"Stale Datasets According to their Update Frequency\",\n",
    "        xref=\"paper\",\n",
    "        x=.5)\n",
    "     )\n",
    "           \n",
    "fig.show()"
   ]
  },
  {
   "cell_type": "code",
   "execution_count": null,
   "metadata": {
    "extensions": {
     "jupyter_dashboards": {
      "version": 1,
      "views": {
       "grid_default": {},
       "report_default": {}
      }
     }
    }
   },
   "outputs": [],
   "source": [
    "ALL = 'ALL'\n",
    "\n",
    "def unique_sorted_values_plus_ALL(array):\n",
    "    unique = array.unique().tolist()\n",
    "    unique.sort()\n",
    "    unique.insert(0, ALL)\n",
    "    return unique"
   ]
  },
  {
   "cell_type": "code",
   "execution_count": null,
   "metadata": {
    "extensions": {
     "jupyter_dashboards": {
      "version": 1,
      "views": {
       "grid_default": {},
       "report_default": {}
      }
     }
    }
   },
   "outputs": [],
   "source": [
    "# def get_stale_status(agency):\n",
    "#     common_filter = fresh_df[(fresh_df.agency == agency)]\n",
    "#     df = common_filter.fresh.value_counts().reset_index().rename(columns={'index':'status','fresh':'count'})\n",
    "#     return df['status']\n",
    "\n",
    "# def get_stale_counts(agency):\n",
    "#     common_filter = fresh_df[(fresh_df.agency == agency)]\n",
    "#     df = common_filter.fresh.value_counts().reset_index().rename(columns={'index':'status','fresh':'count'})\n",
    "#     return df['count']\n",
    "\n",
    "\n",
    "# interact(nbi.bar(get_stale_status, \n",
    "#        get_stale_counts, \n",
    "#        agency=list(fresh_df.agency.unique())))"
   ]
  },
  {
   "cell_type": "code",
   "execution_count": null,
   "metadata": {
    "extensions": {
     "jupyter_dashboards": {
      "version": 1,
      "views": {
       "grid_default": {},
       "report_default": {}
      }
     }
    }
   },
   "outputs": [],
   "source": [
    "agency = 'Department of Homeless Services (DHS)'\n",
    "common_filter = fresh_df[(fresh_df.agency == agency)]\n",
    "df = common_filter.fresh.value_counts().reset_index().rename(columns={'index':'status','fresh':'count'})"
   ]
  },
  {
   "cell_type": "markdown",
   "metadata": {
    "extensions": {
     "jupyter_dashboards": {
      "version": 1,
      "views": {
       "grid_default": {},
       "report_default": {}
      }
     }
    }
   },
   "source": [
    "## AS of 10/4"
   ]
  },
  {
   "cell_type": "code",
   "execution_count": null,
   "metadata": {
    "extensions": {
     "jupyter_dashboards": {
      "version": 1,
      "views": {
       "grid_default": {},
       "report_default": {}
      }
     }
    }
   },
   "outputs": [],
   "source": [
    "# ## Testing out interact\n",
    "\n",
    "@interact\n",
    "def show_agency_and_staleness(column=list(fresh_df.agency.unique())):\n",
    "    print(column)\n",
    "    return fresh_df.query('agency == \"{}\"'.format(column))\n",
    "\n",
    "# @interact\n",
    "# def plot_output()\n",
    "\n",
    "# output_agency = widgets.Output()"
   ]
  },
  {
   "cell_type": "code",
   "execution_count": null,
   "metadata": {
    "extensions": {
     "jupyter_dashboards": {
      "version": 1,
      "views": {
       "grid_default": {},
       "report_default": {}
      }
     }
    }
   },
   "outputs": [],
   "source": [
    "def plot(agency=agency):\n",
    "    \n",
    "    common_filter = fresh_df[(fresh_df.agency == agency)]\n",
    "    \n",
    "    df = common_filter.fresh.value_counts().reset_index().rename(columns={'index':'status','fresh':'count'})\n",
    "\n",
    "    colors = ['gold', 'mediumturquoise', 'darkorange', 'lightgreen']\n",
    "\n",
    "    labels = df['status']\n",
    "    values= df['count']\n",
    "\n",
    "    fig = go.Figure(data=[go.Pie(labels=labels, values=values)])\n",
    "\n",
    "    fig.update_traces(hoverinfo='label+value', textinfo='percent', textfont_size=20,\n",
    "                      marker=dict(colors=colors, line=dict(color='#000000', width=2)))\n",
    "    fig.update_layout(\n",
    "        title=go.layout.Title(\n",
    "        text=\"The Datasets Are Up-to-Date\",\n",
    "        xref=\"paper\",\n",
    "        x=.5)\n",
    "    )\n",
    "    return fig\n",
    "\n",
    "@interact\n",
    "def display_fig(agency=list(fresh_df.agency.unique())):\n",
    "    fig = plot(agency)\n",
    "    return fig.show()\n"
   ]
  }
 ],
 "metadata": {
  "celltoolbar": "Initialization Cell",
  "extensions": {
   "jupyter_dashboards": {
    "activeView": "grid_default",
    "version": 1,
    "views": {
     "grid_default": {
      "cellMargin": 10,
      "defaultCellHeight": 20,
      "maxColumns": 12,
      "name": "grid",
      "type": "grid"
     },
     "report_default": {
      "name": "report",
      "type": "report"
     }
    }
   }
  },
  "kernelspec": {
   "display_name": "OpenDataEnv",
   "language": "python",
   "name": "opendataenv"
  },
  "language_info": {
   "codemirror_mode": {
    "name": "ipython",
    "version": 3
   },
   "file_extension": ".py",
   "mimetype": "text/x-python",
   "name": "python",
   "nbconvert_exporter": "python",
   "pygments_lexer": "ipython3",
   "version": "3.7.4"
  }
 },
 "nbformat": 4,
 "nbformat_minor": 2
}
