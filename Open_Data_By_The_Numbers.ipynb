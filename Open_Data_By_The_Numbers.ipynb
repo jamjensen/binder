{
 "cells": [
  {
   "cell_type": "code",
   "execution_count": 1,
   "metadata": {
    "init_cell": true
   },
   "outputs": [],
   "source": [
    "%reload_ext autoreload\n",
    "%autoreload 2"
   ]
  },
  {
   "cell_type": "code",
   "execution_count": 8,
   "metadata": {
    "extensions": {
     "jupyter_dashboards": {
      "version": 1,
      "views": {
       "grid_default": {},
       "report_default": {}
      }
     }
    },
    "init_cell": true,
    "inputHidden": false,
    "outputHidden": false,
    "tags": [
     "remove_cell"
    ]
   },
   "outputs": [
    {
     "name": "stdout",
     "output_type": "stream",
     "text": [
      "import done\n"
     ]
    }
   ],
   "source": [
    "from sodapy import Socrata\n",
    "from plotly import graph_objects as go\n",
    "from datetime import datetime, date, time, timedelta\n",
    "from ipywidgets import widgets, interact, Layout, Button, HBox, VBox\n",
    "import pandas as pd\n",
    "import math\n",
    "import numpy as np\n",
    "import utils\n",
    "import plotly\n",
    "\n",
    "pd.options.display.max_colwidth = 200\n",
    "import warnings\n",
    "warnings.filterwarnings('ignore')\n",
    "\n",
    "print('import done')"
   ]
  },
  {
   "cell_type": "code",
   "execution_count": 5,
   "metadata": {
    "extensions": {
     "jupyter_dashboards": {
      "version": 1,
      "views": {
       "grid_default": {},
       "report_default": {}
      }
     }
    },
    "init_cell": true,
    "inputHidden": true,
    "outputHidden": true,
    "tags": [
     "remove_cell"
    ]
   },
   "outputs": [],
   "source": [
    "### Get Data from Socrata\n",
    "\n",
    "\n",
    "## Build client\n",
    "usrname = \"jjensen@mointern.nyc.gov\"\n",
    "pword = \"Timspw19!\"\n",
    "client = Socrata(\"data.cityofnewyork.us\",\"TnnbmTZvKbFz7tJ4NpzkfUG6C\", username=usrname, password=pword)\n",
    "\n",
    "## Make API calls\n",
    "# auth_json_downloads = client.get(\"beb8-u7wp\", limit=2000000)\n",
    "# auth_json_dailyviews = client.get(\"qiif-mxcx\", limit=50000)\n",
    "auth_json_authentications = client.get(\"8aih-pmax\", limit = 20000)\n",
    "auth_json_datasetfacts = client.get(\"gzid-z3nh\", limit = 50000)\n",
    "auth_json_public_inventory = client.get(\"5tqd-u88y\", limit=5000)\n",
    "auth_json_api_calls = client.get(\"u7pi-wq4y\", limit=2000)\n",
    "auth_json_the_plan = client.get(\"qj2z-ibhs\", limit=5000)\n",
    "\n",
    "\n",
    "## Get the private asset inventory\n",
    "## only necessary because the columns `asset_type` is only in the private and not the public asset inventory\n",
    "auth_json_asset_inventory = client.get(\"r8cp-r4rc\", limit = 40000)"
   ]
  },
  {
   "cell_type": "code",
   "execution_count": null,
   "metadata": {
    "extensions": {
     "jupyter_dashboards": {
      "version": 1,
      "views": {
       "grid_default": {},
       "report_default": {}
      }
     }
    },
    "init_cell": true,
    "tags": [
     "remove_cell"
    ]
   },
   "outputs": [],
   "source": [
    "### Generate base dataframes to build off of throughout the notebook\n",
    "\n",
    "# dv = pd.DataFrame(auth_json_dailyviews)\n",
    "# dauth = pd.DataFrame(auth_json_authentications)\n",
    "dfacts = pd.DataFrame(auth_json_datasetfacts)\n",
    "# ddownloads = pd.DataFrame(auth_json_downloads)\n",
    "public = pd.DataFrame(auth_json_public_inventory)\n",
    "private = pd.DataFrame(auth_json_asset_inventory)\n",
    "the_plan = pd.DataFrame(auth_json_the_plan)"
   ]
  },
  {
   "cell_type": "code",
   "execution_count": null,
   "metadata": {
    "extensions": {
     "jupyter_dashboards": {
      "version": 1,
      "views": {
       "grid_default": {},
       "report_default": {}
      }
     }
    },
    "init_cell": true,
    "outputHidden": false,
    "tags": [
     "remove_cell"
    ]
   },
   "outputs": [],
   "source": [
    "### Data Cleaning\n",
    "\n",
    "# Create merged_filter, the dataframe that has only assets defined as datasets\n",
    "dataset_filter_list = ['dataset','filter', 'gis map']\n",
    "## Cleaning dates entered in the wrong format\n",
    "bad_index_list = list(public.query('date_made_public == \"August 9, 2-019\"').index)\n",
    "for val in bad_index_list:\n",
    "    public.at[val, 'date_made_public'] = '8/9/2019'\n",
    "\n",
    "# need to merge in private so that we can get the asset type\n",
    "dupes = private[['u_id', 'agency', 'type','name', 'parent_uid','derived_view']]\n",
    "\n",
    "public = utils.date_transformation(public, 'date_made_public')\n",
    "# left join public and private assets to get necessary columns from private asset inventory, such as type\n",
    "merged_total = pd.merge(public, dupes, how='left', on='u_id')\n",
    "# merged_filter is the merged_total dataframe but filtered to only include assets considered as datasets\n",
    "merged_filter = merged_total[merged_total.type.isin(dataset_filter_list)]\n",
    "merged_filter.agency_x = merged_filter.agency_x.astype(str)\n"
   ]
  },
  {
   "cell_type": "markdown",
   "metadata": {
    "extensions": {
     "jupyter_dashboards": {
      "version": 1,
      "views": {
       "grid_default": {},
       "report_default": {}
      }
     }
    }
   },
   "source": [
    "## Derived vs Parent Assets"
   ]
  },
  {
   "cell_type": "markdown",
   "metadata": {},
   "source": [
    "### What is a dataset? \n",
    "A dataset is defined as an asset where derived_view is False and asset_type is either gis map, dataset, or filter.\n",
    "\n",
    "### What is an asset? \n",
    "An asset is the term used to describe every object on the NYC Open Data Portal. Assets can refer to either parent datasets, objects derived from parent datasets, or objects that are not derived and not considered datasets -- such as, files or href links. "
   ]
  },
  {
   "cell_type": "code",
   "execution_count": null,
   "metadata": {
    "extensions": {
     "jupyter_dashboards": {
      "version": 1,
      "views": {
       "grid_default": {},
       "report_default": {}
      }
     }
    },
    "init_cell": true
   },
   "outputs": [],
   "source": [
    "# Calculations of total assets, total datasets, nonderived and derived assets below. \n",
    "\n",
    "not_derived = merged_total.query('derived_view == \"false\"')\n",
    "dataset_df = not_derived[not_derived.type.isin(dataset_filter_list)][['name_x','agency_x','type','u_id','date_made_public']]\n",
    "num_assets = merged_total.shape[0]\n",
    "num_datasets = merged_filter.groupby('derived_view').size()['false']\n",
    "num_not_derived_assets = merged_total.query('derived_view == \"false\"')[~merged_total.type.isin(dataset_filter_list)].shape[0]\n",
    "num_files = merged_total.query('derived_view == \"false\"')[~merged_total.type.isin(dataset_filter_list)].groupby('type').size()['file']\n",
    "num_links = merged_total.query('derived_view == \"false\"')[~merged_total.type.isin(dataset_filter_list)].groupby('type').size()['href']\n",
    "num_derived_assets = merged_total.query('derived_view == \"true\"').shape[0]\n",
    "\n",
    "print('There are {} assets on the NYC Open Data Portal.'.format(num_assets))\n",
    "print('There are {} datasets on the NYC Open Data Portal.'.format(num_datasets))\n",
    "print('There are {} assets that are not derived on the NYC Open Data Portal -- {} files and {} links.'\\\n",
    "      .format(num_not_derived_assets, num_files, num_links))\n",
    "print('There are {} derived assets on the NYC Open Data Portal.'.format(num_derived_assets))\n"
   ]
  },
  {
   "cell_type": "markdown",
   "metadata": {
    "extensions": {
     "jupyter_dashboards": {
      "version": 1,
      "views": {
       "grid_default": {},
       "report_default": {}
      }
     }
    }
   },
   "source": [
    "## Number of Datasets on NYC Open Data Portal"
   ]
  },
  {
   "cell_type": "code",
   "execution_count": null,
   "metadata": {
    "init_cell": true
   },
   "outputs": [],
   "source": [
    "dataset_df.sort_values(by='date_made_public', ascending=False,inplace=True)\n",
    "null_public = dataset_df[dataset_df.date_made_public.isnull()].shape[0]\n",
    "\n",
    "print('There are {} datasets without a value for date_made_public.'.format(null_public))\n",
    "\n",
    "dataset_df['date_made_public'] = pd.to_datetime(dataset_df['date_made_public'])\n",
    "dataset_df = dataset_df[pd.notnull(dataset_df['date_made_public'])]\n",
    "dataset_df.reset_index(inplace=True, drop=True)\n",
    "\n",
    "print('----------Dropping {} rows that do not have a timestamp for date_made_public----------'.\\\n",
    "    format(null_public))"
   ]
  },
  {
   "cell_type": "code",
   "execution_count": null,
   "metadata": {
    "init_cell": true
   },
   "outputs": [],
   "source": [
    "fy_dict, fy_filter_list = utils.build_fy_dictionary(dataset_df, 'date_made_public')\n",
    "\n",
    "# calls the create_fy_columns function to create binary columns that allow us to tally datasets by FY they were created\n",
    "published_datasets_by_fy = utils.create_fy_columns(dataset_df, fy_dict, 'date_made_public')\n",
    "published_assets_by_fy = utils.create_fy_columns(merged_total, fy_dict, 'date_made_public')"
   ]
  },
  {
   "cell_type": "code",
   "execution_count": null,
   "metadata": {
    "init_cell": true
   },
   "outputs": [],
   "source": [
    "# Produces dataframe with the number of datasets per FY by filtering out assets not defined in fy_filter_list\n",
    "num_datasets = pd.DataFrame(published_datasets_by_fy[fy_filter_list].sum())\\\n",
    "    .reset_index().rename(columns={'index':'FY', 0:'Number of Datasets on ODP'})\n",
    "\n",
    "# Produces dataframe with the number of datasets per FY by filtering out assets not defined in fy_filter_list\n",
    "num_assets = pd.DataFrame(published_assets_by_fy[fy_filter_list].sum())\\\n",
    "    .reset_index().rename(columns={'index':'FY', 0:'Number of Assets on ODP'})\n",
    "\n",
    "assets_by_type = pd.DataFrame(merged_total.groupby('type').size())\\\n",
    "    .reset_index().sort_values(ascending=False, by=0)\\\n",
    "    .rename(columns={'type':'asset_type', 0:'Count'})"
   ]
  },
  {
   "cell_type": "code",
   "execution_count": null,
   "metadata": {
    "extensions": {
     "jupyter_dashboards": {
      "version": 1,
      "views": {
       "grid_default": {},
       "report_default": {}
      }
     }
    },
    "init_cell": true,
    "scrolled": false
   },
   "outputs": [],
   "source": [
    "\n",
    "# plotly chart displaying number of datasets at the end of each fiscal year\n",
    "fig = go.Figure(data=[go.Bar(\n",
    "    x=num_datasets['FY'],\n",
    "    y=num_datasets['Number of Datasets on ODP'],\n",
    "    text=num_datasets['Number of Datasets on ODP'],\n",
    "    textposition='auto')])\n",
    "\n",
    "fig.update_layout(\n",
    "     title=go.layout.Title(\n",
    "        text=\"Total Datasets at the End of the Fiscal Year\",\n",
    "        xref=\"paper\",\n",
    "        x=.5)\n",
    ")\n",
    "fig.show()"
   ]
  },
  {
   "cell_type": "code",
   "execution_count": null,
   "metadata": {
    "extensions": {
     "jupyter_dashboards": {
      "version": 1,
      "views": {
       "grid_default": {},
       "report_default": {}
      }
     }
    },
    "init_cell": true
   },
   "outputs": [],
   "source": [
    "# Number of Assets per FY\n",
    "\n",
    "fig = go.Figure(data=[go.Bar(\n",
    "    x=num_assets['FY'],\n",
    "    y=num_assets['Number of Assets on ODP'],\n",
    "    text=num_assets['Number of Assets on ODP'],\n",
    "    textposition='auto')])\n",
    "fig.update_layout(\n",
    "     title=go.layout.Title(\n",
    "        text=\"Number of Assets at the End of the Fiscal Year\",\n",
    "        xref=\"paper\",\n",
    "        x=.5)\n",
    "    )\n",
    "fig.show()"
   ]
  },
  {
   "cell_type": "code",
   "execution_count": 117,
   "metadata": {},
   "outputs": [
    {
     "data": {
      "text/html": [
       "<div>\n",
       "<style scoped>\n",
       "    .dataframe tbody tr th:only-of-type {\n",
       "        vertical-align: middle;\n",
       "    }\n",
       "\n",
       "    .dataframe tbody tr th {\n",
       "        vertical-align: top;\n",
       "    }\n",
       "\n",
       "    .dataframe thead th {\n",
       "        text-align: right;\n",
       "    }\n",
       "</style>\n",
       "<table border=\"1\" class=\"dataframe\">\n",
       "  <thead>\n",
       "    <tr style=\"text-align: right;\">\n",
       "      <th></th>\n",
       "      <th>agency_x</th>\n",
       "      <th>name_x</th>\n",
       "      <th>description</th>\n",
       "      <th>dataset_link</th>\n",
       "      <th>u_id</th>\n",
       "      <th>dataset_from_the_open_data_plan</th>\n",
       "      <th>original_scheduled_publication_date</th>\n",
       "      <th>most_recent_scheduled_publication_date</th>\n",
       "      <th>date_made_public</th>\n",
       "      <th>has_data_dictionary</th>\n",
       "      <th>...</th>\n",
       "      <th>FY_2016</th>\n",
       "      <th>End_of_FY_2016</th>\n",
       "      <th>FY_2017</th>\n",
       "      <th>End_of_FY_2017</th>\n",
       "      <th>FY_2018</th>\n",
       "      <th>End_of_FY_2018</th>\n",
       "      <th>FY_2019</th>\n",
       "      <th>End_of_FY_2019</th>\n",
       "      <th>FY_2020</th>\n",
       "      <th>As of Today</th>\n",
       "    </tr>\n",
       "  </thead>\n",
       "  <tbody>\n",
       "    <tr>\n",
       "      <td>0</td>\n",
       "      <td>311</td>\n",
       "      <td>311 Service Requests for 2004</td>\n",
       "      <td>311 Service Requests for 2004. This is historical data and will not be updated.</td>\n",
       "      <td>{'url': 'https://data.cityofnewyork.us/d/sqcr-6mww'}</td>\n",
       "      <td>sqcr-6mww</td>\n",
       "      <td>No</td>\n",
       "      <td>N/A</td>\n",
       "      <td>N/A</td>\n",
       "      <td>2011-10-20</td>\n",
       "      <td>Yes</td>\n",
       "      <td>...</td>\n",
       "      <td>0</td>\n",
       "      <td>1</td>\n",
       "      <td>0</td>\n",
       "      <td>1</td>\n",
       "      <td>0</td>\n",
       "      <td>1</td>\n",
       "      <td>0</td>\n",
       "      <td>1</td>\n",
       "      <td>0</td>\n",
       "      <td>1</td>\n",
       "    </tr>\n",
       "    <tr>\n",
       "      <td>1</td>\n",
       "      <td>311</td>\n",
       "      <td>311 Service Requests for 2006</td>\n",
       "      <td>311 Service Requests for 2006. This is historical data and will not be updated.</td>\n",
       "      <td>{'url': 'https://data.cityofnewyork.us/d/hy4q-igkk'}</td>\n",
       "      <td>hy4q-igkk</td>\n",
       "      <td>No</td>\n",
       "      <td>N/A</td>\n",
       "      <td>N/A</td>\n",
       "      <td>2011-10-20</td>\n",
       "      <td>Yes</td>\n",
       "      <td>...</td>\n",
       "      <td>0</td>\n",
       "      <td>1</td>\n",
       "      <td>0</td>\n",
       "      <td>1</td>\n",
       "      <td>0</td>\n",
       "      <td>1</td>\n",
       "      <td>0</td>\n",
       "      <td>1</td>\n",
       "      <td>0</td>\n",
       "      <td>1</td>\n",
       "    </tr>\n",
       "    <tr>\n",
       "      <td>2</td>\n",
       "      <td>311</td>\n",
       "      <td>311 Call Center Inquiry</td>\n",
       "      <td>&lt;div&gt;The 311 Call Center Inquiry dataset contains information on all agent-handled calls to the City’s 311 information line, including date, time and topic.&lt;br&gt;&lt;/div&gt;&lt;div&gt;&lt;a target=\"_blank\" rel=\"n...</td>\n",
       "      <td>{'url': 'https://data.cityofnewyork.us/view/tdd6-3ysr'}</td>\n",
       "      <td>tdd6-3ysr</td>\n",
       "      <td>No</td>\n",
       "      <td>N/A</td>\n",
       "      <td>N/A</td>\n",
       "      <td>2016-05-13</td>\n",
       "      <td>Yes</td>\n",
       "      <td>...</td>\n",
       "      <td>1</td>\n",
       "      <td>1</td>\n",
       "      <td>0</td>\n",
       "      <td>1</td>\n",
       "      <td>0</td>\n",
       "      <td>1</td>\n",
       "      <td>0</td>\n",
       "      <td>1</td>\n",
       "      <td>0</td>\n",
       "      <td>1</td>\n",
       "    </tr>\n",
       "    <tr>\n",
       "      <td>3</td>\n",
       "      <td>311</td>\n",
       "      <td>311 Service Requests for 2007</td>\n",
       "      <td>311 Service Requests for 2007. This is historical data and will not be updated.</td>\n",
       "      <td>{'url': 'https://data.cityofnewyork.us/d/aiww-p3af'}</td>\n",
       "      <td>aiww-p3af</td>\n",
       "      <td>No</td>\n",
       "      <td>N/A</td>\n",
       "      <td>N/A</td>\n",
       "      <td>2011-10-20</td>\n",
       "      <td>Yes</td>\n",
       "      <td>...</td>\n",
       "      <td>0</td>\n",
       "      <td>1</td>\n",
       "      <td>0</td>\n",
       "      <td>1</td>\n",
       "      <td>0</td>\n",
       "      <td>1</td>\n",
       "      <td>0</td>\n",
       "      <td>1</td>\n",
       "      <td>0</td>\n",
       "      <td>1</td>\n",
       "    </tr>\n",
       "    <tr>\n",
       "      <td>4</td>\n",
       "      <td>311</td>\n",
       "      <td>311 Call Center Inquiry</td>\n",
       "      <td>The 311 Call Center Inquiry dataset contains information on all agent-handled calls to the City’s 311 information line, including date, time and topic.\\r\\n\\r\\nClick &lt;a href=\"https://data.cityofnew...</td>\n",
       "      <td>{'url': 'https://data.cityofnewyork.us/d/wewp-mm3p'}</td>\n",
       "      <td>wewp-mm3p</td>\n",
       "      <td>No</td>\n",
       "      <td>N/A</td>\n",
       "      <td>N/A</td>\n",
       "      <td>2016-06-13</td>\n",
       "      <td>Yes</td>\n",
       "      <td>...</td>\n",
       "      <td>1</td>\n",
       "      <td>1</td>\n",
       "      <td>0</td>\n",
       "      <td>1</td>\n",
       "      <td>0</td>\n",
       "      <td>1</td>\n",
       "      <td>0</td>\n",
       "      <td>1</td>\n",
       "      <td>0</td>\n",
       "      <td>1</td>\n",
       "    </tr>\n",
       "  </tbody>\n",
       "</table>\n",
       "<p>5 rows × 46 columns</p>\n",
       "</div>"
      ],
      "text/plain": [
       "  agency_x                         name_x  \\\n",
       "0      311  311 Service Requests for 2004   \n",
       "1      311  311 Service Requests for 2006   \n",
       "2      311        311 Call Center Inquiry   \n",
       "3      311  311 Service Requests for 2007   \n",
       "4      311        311 Call Center Inquiry   \n",
       "\n",
       "                                                                                                                                                                                               description  \\\n",
       "0                                                                                                                          311 Service Requests for 2004. This is historical data and will not be updated.   \n",
       "1                                                                                                                          311 Service Requests for 2006. This is historical data and will not be updated.   \n",
       "2  <div>The 311 Call Center Inquiry dataset contains information on all agent-handled calls to the City’s 311 information line, including date, time and topic.<br></div><div><a target=\"_blank\" rel=\"n...   \n",
       "3                                                                                                                          311 Service Requests for 2007. This is historical data and will not be updated.   \n",
       "4  The 311 Call Center Inquiry dataset contains information on all agent-handled calls to the City’s 311 information line, including date, time and topic.\\r\\n\\r\\nClick <a href=\"https://data.cityofnew...   \n",
       "\n",
       "                                              dataset_link       u_id  \\\n",
       "0     {'url': 'https://data.cityofnewyork.us/d/sqcr-6mww'}  sqcr-6mww   \n",
       "1     {'url': 'https://data.cityofnewyork.us/d/hy4q-igkk'}  hy4q-igkk   \n",
       "2  {'url': 'https://data.cityofnewyork.us/view/tdd6-3ysr'}  tdd6-3ysr   \n",
       "3     {'url': 'https://data.cityofnewyork.us/d/aiww-p3af'}  aiww-p3af   \n",
       "4     {'url': 'https://data.cityofnewyork.us/d/wewp-mm3p'}  wewp-mm3p   \n",
       "\n",
       "  dataset_from_the_open_data_plan original_scheduled_publication_date  \\\n",
       "0                              No                                 N/A   \n",
       "1                              No                                 N/A   \n",
       "2                              No                                 N/A   \n",
       "3                              No                                 N/A   \n",
       "4                              No                                 N/A   \n",
       "\n",
       "  most_recent_scheduled_publication_date date_made_public has_data_dictionary  \\\n",
       "0                                    N/A       2011-10-20                 Yes   \n",
       "1                                    N/A       2011-10-20                 Yes   \n",
       "2                                    N/A       2016-05-13                 Yes   \n",
       "3                                    N/A       2011-10-20                 Yes   \n",
       "4                                    N/A       2016-06-13                 Yes   \n",
       "\n",
       "   ... FY_2016 End_of_FY_2016 FY_2017 End_of_FY_2017 FY_2018 End_of_FY_2018  \\\n",
       "0  ...       0              1       0              1       0              1   \n",
       "1  ...       0              1       0              1       0              1   \n",
       "2  ...       1              1       0              1       0              1   \n",
       "3  ...       0              1       0              1       0              1   \n",
       "4  ...       1              1       0              1       0              1   \n",
       "\n",
       "  FY_2019 End_of_FY_2019 FY_2020 As of Today  \n",
       "0       0              1       0           1  \n",
       "1       0              1       0           1  \n",
       "2       0              1       0           1  \n",
       "3       0              1       0           1  \n",
       "4       0              1       0           1  \n",
       "\n",
       "[5 rows x 46 columns]"
      ]
     },
     "execution_count": 117,
     "metadata": {},
     "output_type": "execute_result"
    }
   ],
   "source": []
  },
  {
   "cell_type": "code",
   "execution_count": null,
   "metadata": {
    "extensions": {
     "jupyter_dashboards": {
      "version": 1,
      "views": {
       "grid_default": {},
       "report_default": {}
      }
     }
    },
    "init_cell": true,
    "inputHidden": false,
    "outputHidden": false
   },
   "outputs": [],
   "source": [
    "# Calling attention to Total Assets by Asset Type for two reasons: (1) internally we use the term \"dataset\",\n",
    "# however, there is also an asset type called \"dataset.\" When we refer to a dataset on the Open Data Portal, \n",
    "# we're referring to an asset of that is not derived and is of type 'dataset','gis map', or 'filter';\n",
    "# (2) We have a significant number of assets that live on the portal but are not datasets. When speaking of datasets,\n",
    "# these assets (href, file, datalens) should be excluded. This chart displays all assets, derived or not derived,\n",
    "# by their asset type. \n",
    "\n",
    "fig = go.Figure(data=[go.Bar(\n",
    "    x=assets_by_type['asset_type'],\n",
    "    y=assets_by_type['Count'],\n",
    "    text=assets_by_type['Count'],\n",
    "    textposition='auto')])\n",
    "\n",
    "fig.update_layout(\n",
    "     title=go.layout.Title(\n",
    "        text=\"Total Assets by Asset Type\",\n",
    "        xref=\"paper\",\n",
    "        x=.5)\n",
    "    )\n",
    "fig.show()"
   ]
  },
  {
   "cell_type": "markdown",
   "metadata": {
    "init_cell": true
   },
   "source": [
    "### Select an asset type from the following dropdown menu to view all corresponding assets on the NYC Open Data Portal."
   ]
  },
  {
   "cell_type": "code",
   "execution_count": null,
   "metadata": {
    "init_cell": true
   },
   "outputs": [],
   "source": [
    "\n",
    "output_type = widgets.Output()\n",
    "dropdown_type = widgets.Dropdown(options = utils.unique_sorted_values_plus_ALL(merged_total.type),\\\n",
    "                                layout=Layout(width='20%'))\n",
    "dropdown_type.layout.margin = \"0px 0px 0px 400px\"\n",
    "\n",
    "def display_assets(asset_type):\n",
    "    output_type.clear_output()\n",
    "    df = merged_total[['name_x','agency_x','u_id','type']]\n",
    "    df.rename(columns={'agency_x':'agency','name_x':'asset_name','type':'asset_type'}, inplace=True)\n",
    "    with output_type:\n",
    "        with pd.option_context(\"display.max_rows\", 10000):\n",
    "            if (asset_type == utils.ALL):\n",
    "                display(df)\n",
    "            else:\n",
    "                display(df[df.asset_type == asset_type])\n",
    "\n",
    "def dropdown_type_eventhandler(change):\n",
    "    display_assets(change.new)\n",
    "\n",
    "dropdown_type.observe(dropdown_type_eventhandler, names='value')\n",
    "\n",
    "display(dropdown_type)\n",
    "display(output_type)\n"
   ]
  },
  {
   "cell_type": "code",
   "execution_count": 132,
   "metadata": {
    "extensions": {
     "jupyter_dashboards": {
      "version": 1,
      "views": {
       "grid_default": {},
       "report_default": {}
      }
     }
    },
    "inputHidden": false,
    "outputHidden": false,
    "tags": [
     "remove_cell"
    ]
   },
   "outputs": [
    {
     "ename": "KeyError",
     "evalue": "'fy_16'",
     "output_type": "error",
     "traceback": [
      "\u001b[0;31m---------------------------------------------------------------------------\u001b[0m",
      "\u001b[0;31mKeyError\u001b[0m                                  Traceback (most recent call last)",
      "\u001b[0;32m<ipython-input-132-123f8b717b3d>\u001b[0m in \u001b[0;36m<module>\u001b[0;34m\u001b[0m\n\u001b[1;32m      1\u001b[0m \u001b[0;31m# Number of Unique Agencies that Published Dataset per Fiscal Year\u001b[0m\u001b[0;34m\u001b[0m\u001b[0;34m\u001b[0m\u001b[0;34m\u001b[0m\u001b[0m\n\u001b[1;32m      2\u001b[0m \u001b[0;34m\u001b[0m\u001b[0m\n\u001b[0;32m----> 3\u001b[0;31m \u001b[0mpublished_datasets_by_fy\u001b[0m\u001b[0;34m.\u001b[0m\u001b[0mgroupby\u001b[0m\u001b[0;34m(\u001b[0m\u001b[0;34m[\u001b[0m\u001b[0;34m'fy_16'\u001b[0m\u001b[0;34m,\u001b[0m\u001b[0;34m'fy_17'\u001b[0m\u001b[0;34m,\u001b[0m\u001b[0;34m'fy_18'\u001b[0m\u001b[0;34m,\u001b[0m\u001b[0;34m'fy_19'\u001b[0m\u001b[0;34m]\u001b[0m\u001b[0;34m,\u001b[0m \u001b[0mas_index\u001b[0m\u001b[0;34m=\u001b[0m\u001b[0;32mTrue\u001b[0m\u001b[0;34m)\u001b[0m\u001b[0;31m\\\u001b[0m\u001b[0;34m\u001b[0m\u001b[0;34m\u001b[0m\u001b[0m\n\u001b[0m\u001b[1;32m      4\u001b[0m     \u001b[0;34m[\u001b[0m\u001b[0;34m'agency_x'\u001b[0m\u001b[0;34m]\u001b[0m\u001b[0;34m.\u001b[0m\u001b[0mnunique\u001b[0m\u001b[0;34m(\u001b[0m\u001b[0;34m)\u001b[0m\u001b[0;34m.\u001b[0m\u001b[0mreset_index\u001b[0m\u001b[0;34m(\u001b[0m\u001b[0;34m)\u001b[0m\u001b[0;34m\u001b[0m\u001b[0;34m\u001b[0m\u001b[0m\n",
      "\u001b[0;32m~/Documents/MODA/OpenData/OpenDataEnv/lib/python3.7/site-packages/pandas/core/generic.py\u001b[0m in \u001b[0;36mgroupby\u001b[0;34m(self, by, axis, level, as_index, sort, group_keys, squeeze, observed, **kwargs)\u001b[0m\n\u001b[1;32m   7892\u001b[0m             \u001b[0msqueeze\u001b[0m\u001b[0;34m=\u001b[0m\u001b[0msqueeze\u001b[0m\u001b[0;34m,\u001b[0m\u001b[0;34m\u001b[0m\u001b[0;34m\u001b[0m\u001b[0m\n\u001b[1;32m   7893\u001b[0m             \u001b[0mobserved\u001b[0m\u001b[0;34m=\u001b[0m\u001b[0mobserved\u001b[0m\u001b[0;34m,\u001b[0m\u001b[0;34m\u001b[0m\u001b[0;34m\u001b[0m\u001b[0m\n\u001b[0;32m-> 7894\u001b[0;31m             \u001b[0;34m**\u001b[0m\u001b[0mkwargs\u001b[0m\u001b[0;34m\u001b[0m\u001b[0;34m\u001b[0m\u001b[0m\n\u001b[0m\u001b[1;32m   7895\u001b[0m         )\n\u001b[1;32m   7896\u001b[0m \u001b[0;34m\u001b[0m\u001b[0m\n",
      "\u001b[0;32m~/Documents/MODA/OpenData/OpenDataEnv/lib/python3.7/site-packages/pandas/core/groupby/groupby.py\u001b[0m in \u001b[0;36mgroupby\u001b[0;34m(obj, by, **kwds)\u001b[0m\n\u001b[1;32m   2520\u001b[0m         \u001b[0;32mraise\u001b[0m \u001b[0mTypeError\u001b[0m\u001b[0;34m(\u001b[0m\u001b[0;34m\"invalid type: {}\"\u001b[0m\u001b[0;34m.\u001b[0m\u001b[0mformat\u001b[0m\u001b[0;34m(\u001b[0m\u001b[0mobj\u001b[0m\u001b[0;34m)\u001b[0m\u001b[0;34m)\u001b[0m\u001b[0;34m\u001b[0m\u001b[0;34m\u001b[0m\u001b[0m\n\u001b[1;32m   2521\u001b[0m \u001b[0;34m\u001b[0m\u001b[0m\n\u001b[0;32m-> 2522\u001b[0;31m     \u001b[0;32mreturn\u001b[0m \u001b[0mklass\u001b[0m\u001b[0;34m(\u001b[0m\u001b[0mobj\u001b[0m\u001b[0;34m,\u001b[0m \u001b[0mby\u001b[0m\u001b[0;34m,\u001b[0m \u001b[0;34m**\u001b[0m\u001b[0mkwds\u001b[0m\u001b[0;34m)\u001b[0m\u001b[0;34m\u001b[0m\u001b[0;34m\u001b[0m\u001b[0m\n\u001b[0m",
      "\u001b[0;32m~/Documents/MODA/OpenData/OpenDataEnv/lib/python3.7/site-packages/pandas/core/groupby/groupby.py\u001b[0m in \u001b[0;36m__init__\u001b[0;34m(self, obj, keys, axis, level, grouper, exclusions, selection, as_index, sort, group_keys, squeeze, observed, **kwargs)\u001b[0m\n\u001b[1;32m    389\u001b[0m                 \u001b[0msort\u001b[0m\u001b[0;34m=\u001b[0m\u001b[0msort\u001b[0m\u001b[0;34m,\u001b[0m\u001b[0;34m\u001b[0m\u001b[0;34m\u001b[0m\u001b[0m\n\u001b[1;32m    390\u001b[0m                 \u001b[0mobserved\u001b[0m\u001b[0;34m=\u001b[0m\u001b[0mobserved\u001b[0m\u001b[0;34m,\u001b[0m\u001b[0;34m\u001b[0m\u001b[0;34m\u001b[0m\u001b[0m\n\u001b[0;32m--> 391\u001b[0;31m                 \u001b[0mmutated\u001b[0m\u001b[0;34m=\u001b[0m\u001b[0mself\u001b[0m\u001b[0;34m.\u001b[0m\u001b[0mmutated\u001b[0m\u001b[0;34m,\u001b[0m\u001b[0;34m\u001b[0m\u001b[0;34m\u001b[0m\u001b[0m\n\u001b[0m\u001b[1;32m    392\u001b[0m             )\n\u001b[1;32m    393\u001b[0m \u001b[0;34m\u001b[0m\u001b[0m\n",
      "\u001b[0;32m~/Documents/MODA/OpenData/OpenDataEnv/lib/python3.7/site-packages/pandas/core/groupby/grouper.py\u001b[0m in \u001b[0;36m_get_grouper\u001b[0;34m(obj, key, axis, level, sort, observed, mutated, validate)\u001b[0m\n\u001b[1;32m    619\u001b[0m                 \u001b[0min_axis\u001b[0m\u001b[0;34m,\u001b[0m \u001b[0mname\u001b[0m\u001b[0;34m,\u001b[0m \u001b[0mlevel\u001b[0m\u001b[0;34m,\u001b[0m \u001b[0mgpr\u001b[0m \u001b[0;34m=\u001b[0m \u001b[0;32mFalse\u001b[0m\u001b[0;34m,\u001b[0m \u001b[0;32mNone\u001b[0m\u001b[0;34m,\u001b[0m \u001b[0mgpr\u001b[0m\u001b[0;34m,\u001b[0m \u001b[0;32mNone\u001b[0m\u001b[0;34m\u001b[0m\u001b[0;34m\u001b[0m\u001b[0m\n\u001b[1;32m    620\u001b[0m             \u001b[0;32melse\u001b[0m\u001b[0;34m:\u001b[0m\u001b[0;34m\u001b[0m\u001b[0;34m\u001b[0m\u001b[0m\n\u001b[0;32m--> 621\u001b[0;31m                 \u001b[0;32mraise\u001b[0m \u001b[0mKeyError\u001b[0m\u001b[0;34m(\u001b[0m\u001b[0mgpr\u001b[0m\u001b[0;34m)\u001b[0m\u001b[0;34m\u001b[0m\u001b[0;34m\u001b[0m\u001b[0m\n\u001b[0m\u001b[1;32m    622\u001b[0m         \u001b[0;32melif\u001b[0m \u001b[0misinstance\u001b[0m\u001b[0;34m(\u001b[0m\u001b[0mgpr\u001b[0m\u001b[0;34m,\u001b[0m \u001b[0mGrouper\u001b[0m\u001b[0;34m)\u001b[0m \u001b[0;32mand\u001b[0m \u001b[0mgpr\u001b[0m\u001b[0;34m.\u001b[0m\u001b[0mkey\u001b[0m \u001b[0;32mis\u001b[0m \u001b[0;32mnot\u001b[0m \u001b[0;32mNone\u001b[0m\u001b[0;34m:\u001b[0m\u001b[0;34m\u001b[0m\u001b[0;34m\u001b[0m\u001b[0m\n\u001b[1;32m    623\u001b[0m             \u001b[0;31m# Add key to exclusions\u001b[0m\u001b[0;34m\u001b[0m\u001b[0;34m\u001b[0m\u001b[0;34m\u001b[0m\u001b[0m\n",
      "\u001b[0;31mKeyError\u001b[0m: 'fy_16'"
     ]
    }
   ],
   "source": [
    "# Number of Unique Agencies that Published Dataset per Fiscal Year\n",
    "\n",
    "published_datasets_by_fy.groupby(['fy_16','fy_17','fy_18','fy_19'], as_index=True)\\\n",
    "    ['agency_x'].nunique().reset_index()"
   ]
  },
  {
   "cell_type": "markdown",
   "metadata": {
    "extensions": {
     "jupyter_dashboards": {
      "version": 1,
      "views": {
       "grid_default": {},
       "report_default": {}
      }
     }
    }
   },
   "source": [
    "# Automations"
   ]
  },
  {
   "cell_type": "markdown",
   "metadata": {
    "init_cell": true
   },
   "source": [
    "This chart displays the total number of automated datasts on the Open Data Portal for a given month. Since we do not\n",
    "have a timestamp for when a dataset was automated, the count of automated datasets is calculated using the timestamp for when a dataset was made public. The total count for the current month reflects the number of automated datasets live on the Open Data Portal. The caveat here is that if an older dataset was automated it would also be reflected in the month for when that dataset was made public. To improve this chart (and our understand of automation) we should add a timestamp for when a dataset was automated to the asset inventory."
   ]
  },
  {
   "cell_type": "code",
   "execution_count": null,
   "metadata": {
    "extensions": {
     "jupyter_dashboards": {
      "version": 1,
      "views": {
       "grid_default": {},
       "report_default": {}
      }
     }
    },
    "init_cell": true,
    "tags": [
     "hide_input"
    ]
   },
   "outputs": [],
   "source": [
    "cumulative_automations = pd.DataFrame(merged_filter.query('automation == \"Yes\" & date_made_public')\\\n",
    "    .groupby(pd.Grouper(key='date_made_public', freq=('M'))).size().cumsum()).rename(columns={0:'Count'}).last('18M')\n",
    "\n",
    "fig = go.Figure(data=[go.Bar(\n",
    "    x=cumulative_automations.index,\n",
    "    y=cumulative_automations['Count'],\n",
    "    text=cumulative_automations['Count'],\n",
    "    textposition='auto')])\n",
    "\n",
    "fig.update_layout(\n",
    "     title=go.layout.Title(\n",
    "        text=\"Cumulative Total Automated Datasets in the Last 18 Months\",\n",
    "        xref=\"paper\",\n",
    "        x=.5)\n",
    "     )\n",
    "fig.show()"
   ]
  },
  {
   "cell_type": "code",
   "execution_count": null,
   "metadata": {
    "extensions": {
     "jupyter_dashboards": {
      "version": 1,
      "views": {
       "grid_default": {},
       "report_default": {}
      }
     }
    },
    "init_cell": true,
    "tags": [
     "remove_cell"
    ]
   },
   "outputs": [],
   "source": [
    "public['last_update_date_data'] = pd.to_datetime(public['last_update_date_data'])\n",
    "merged_filter['last_update_date_data'] = pd.to_datetime(public['last_update_date_data'])\n",
    "merged_filter['last_update_date_data'] = merged_filter['last_update_date_data'].dt.tz_convert(None)"
   ]
  },
  {
   "cell_type": "code",
   "execution_count": null,
   "metadata": {
    "extensions": {
     "jupyter_dashboards": {
      "version": 1,
      "views": {
       "grid_default": {},
       "report_default": {}
      }
     }
    },
    "init_cell": true,
    "tags": [
     "remove_cell"
    ]
   },
   "outputs": [],
   "source": [
    "# merged filter is a copy of the asset inventory that is filtered to only include assets defined as datasets\n",
    "freshness_df = merged_filter[['name_x','agency_x','u_id','update_frequency',\\\n",
    "                              'date_made_public','last_update_date_data','automation']]\n",
    "\n",
    "# Remove datasets with update frequencies for which we cannot determine freshness\n",
    "freshness_df = freshness_df[~freshness_df['update_frequency'].isin(['Historical Data', 'As needed'])].reset_index(drop=True)\n",
    "freshness_df.rename(columns={'name_x':'dataset_name','agency_x':'agency','u_id':'asset_id','last_update_date_data':'date_last_updated',\\\n",
    "                            'automation':'automated'}, inplace=True)\n",
    "\n",
    "# Removes automated datasets \n",
    "# freshness_df = freshness_df[freshness_df['automation'] != \"Yes\"]"
   ]
  },
  {
   "cell_type": "code",
   "execution_count": null,
   "metadata": {
    "extensions": {
     "jupyter_dashboards": {
      "version": 1,
      "views": {
       "grid_default": {},
       "report_default": {}
      }
     }
    },
    "init_cell": true,
    "tags": [
     "remove_cell"
    ]
   },
   "outputs": [],
   "source": [
    "FREQ_DICTIONARY = {\n",
    "    \n",
    "    'Daily' : [np.timedelta64(1, 'D')],\n",
    "    'Weekly' : [np.timedelta64(1, 'W')],\n",
    "    'Biweekly ': [np.timedelta64(4, 'D')],\n",
    "    'Monthly': [np.timedelta64(1,'M')],\n",
    "    'Quarterly':[np.timedelta64(3, 'M')],\n",
    "    '2 to 4 times per year' : [np.timedelta64(6, 'M')],\n",
    "    'Triannually': [np.timedelta64(4, 'M')],\n",
    "    'Biannually ': [np.timedelta64(6, 'M')],\n",
    "    'Annually': [np.timedelta64(1, 'Y')],\n",
    "    'Weekdays': [np.timedelta64(2, 'D')],\n",
    "    'Hourly': [np.timedelta64(1, 'h')],\n",
    "    'Several times per day': [np.timedelta64(1, 'D')]\n",
    "}\n",
    "\n",
    "def calculate_freshness(df, date_col, fresh_col):\n",
    "    '''\n",
    "    Returns the asset inventory dataframe with an additional true/false column that\n",
    "    indicates whether or not a dataset is fresh. Fresh is defined as having a \n",
    "    last_update_date_data timestamp within the stated update frequency\n",
    "    \n",
    "    Inputs:\n",
    "        df: a dataframe, one that has filtered inapplicable update frequencies\n",
    "            and all automated datasets\n",
    "        date_col: last updated timestamp\n",
    "        fresh_col: name of the binary fresh or stale column\n",
    "    Returns:\n",
    "        dataframe indicating if each dataset is stale or fresh\n",
    "    '''\n",
    "    \n",
    "    df[fresh_col] = np.nan\n",
    "    \n",
    "    for frequency in df.update_frequency.unique():\n",
    "                    \n",
    "        \n",
    "        temp = df.query('update_frequency == \"{}\"'.format(frequency))  \n",
    "        today = datetime.today()\n",
    "        idx = temp.index\n",
    "        \n",
    "#         if frequency == 'Weekdays':\n",
    "#             np.busday_count(today, temp['last_update_date_data'])\n",
    "            \n",
    "        df.loc[idx, fresh_col] = (today - temp[date_col]) < FREQ_DICTIONARY[frequency][0]\n",
    "    \n",
    "    return df"
   ]
  },
  {
   "cell_type": "markdown",
   "metadata": {},
   "source": [
    "## Measuring Data Freshness "
   ]
  },
  {
   "cell_type": "code",
   "execution_count": null,
   "metadata": {
    "extensions": {
     "jupyter_dashboards": {
      "version": 1,
      "views": {
       "grid_default": {},
       "report_default": {}
      }
     }
    },
    "init_cell": true,
    "tags": [
     "hide_input"
    ]
   },
   "outputs": [],
   "source": [
    "# Percent of datasets fresh or stale\n",
    "fresh_df = calculate_freshness(freshness_df, 'date_last_updated', 'fresh')\n",
    "fresh_df['agency'] = fresh_df['agency'].astype(str)\n",
    "\n",
    "# get index value for all automated datasets\n",
    "auto_idx = np.where(freshness_df['automated']=='Yes')\n",
    "\n",
    "# update fresh_df to be true for all automated datasets\n",
    "fresh_df.fresh.iloc[auto_idx] = True\n",
    "\n",
    "# sort fresh dataframe\n",
    "fresh_df.sort_values(by=['fresh','date_last_updated'], inplace=True)\n",
    "\n",
    "\n",
    "pct_fresh = fresh_df.groupby('fresh').size().reset_index().rename(columns={0:'count'})\n",
    "pct_fresh['pct'] = pct_fresh['count'].apply(lambda x: x/pct_fresh['count'].sum())\n",
    "\n",
    "\n",
    "# Stale datasets by update_frequency\n",
    "uf = fresh_df.query('fresh == False').groupby('update_frequency')\\\n",
    "    .size().reset_index().rename(columns={0:'Count'}).sort_values(by='Count')\n",
    "\n",
    "# 324 are annual, which could mean they're mistagged and should be historical\n",
    "    \n",
    "colors = ['gold', 'mediumturquoise', 'darkorange', 'lightgreen']\n",
    "\n",
    "\n",
    "labels = uf['update_frequency']\n",
    "values = uf['Count']\n",
    "\n",
    "fig = go.Figure(data=[go.Pie(labels=labels, values=values)])\n",
    "\n",
    "fig.update_traces(hoverinfo='label+value', textinfo='percent', textfont_size=20,\n",
    "                  marker=dict(colors=colors, line=dict(color='#000000', width=2)))\n",
    "\n",
    "fig.update_layout(\n",
    "     title=go.layout.Title(\n",
    "        text=\"Stale Datasets According to their Update Frequency\",\n",
    "        xref=\"paper\",\n",
    "        x=.5)\n",
    "     )\n",
    "           \n",
    "fig.show()"
   ]
  },
  {
   "cell_type": "code",
   "execution_count": null,
   "metadata": {
    "extensions": {
     "jupyter_dashboards": {
      "version": 1,
      "views": {
       "grid_default": {},
       "report_default": {}
      }
     }
    },
    "init_cell": true,
    "tags": [
     "remove_cell"
    ]
   },
   "outputs": [],
   "source": [
    "stacked = fresh_df.groupby('agency')['fresh'].value_counts()\\\n",
    "    .unstack().fillna(0).reset_index().rename(columns={False:'Stale',True:'Fresh'})\\\n",
    "    .sort_values(by='Fresh',ascending=False)\n",
    "\n",
    "fig = go.Figure(data=[\n",
    "    go.Bar(name='Stale', x=stacked['agency'], y=stacked['Stale']),\n",
    "    go.Bar(name='Fresh', x=stacked['agency'], y=stacked['Fresh'])\n",
    "])\n",
    "\n",
    "fig.update_layout(\n",
    "     title=go.layout.Title(\n",
    "        text=\"How Stale Is Each Agency's Data?\",\n",
    "        xref=\"paper\",\n",
    "        x=.5)\n",
    "     )\n",
    "\n",
    "fig.update_xaxes(showticklabels=False)\n",
    "# Change the bar mode\n",
    "fig.update_layout(barmode='stack')\n",
    "\n",
    "fig.update_layout(\n",
    "    autosize=False,\n",
    "    width=1000,\n",
    "    height=700,\n",
    "    margin=go.layout.Margin(\n",
    "        l=50,\n",
    "        r=50,\n",
    "        b=100,\n",
    "        t=100,\n",
    "        pad=4\n",
    "    ),\n",
    "\n",
    ")\n",
    "fig.show()"
   ]
  },
  {
   "cell_type": "markdown",
   "metadata": {},
   "source": [
    "## Data Freshness by Agency"
   ]
  },
  {
   "cell_type": "markdown",
   "metadata": {},
   "source": [
    "Selecting an Agency from the dropdown menu below will present a pie chart displaying the percentage of datasets that are within their update frequency (fresh) and the percentage that have not received new data within their update frequency (stale). It will also present a table with the agency's datasets as well as a column that indicates whether the dataset is stale or not. "
   ]
  },
  {
   "cell_type": "code",
   "execution_count": null,
   "metadata": {
    "extensions": {
     "jupyter_dashboards": {
      "version": 1,
      "views": {
       "grid_default": {},
       "report_default": {}
      }
     }
    },
    "init_cell": true,
    "scrolled": false,
    "tags": [
     "hide_input"
    ]
   },
   "outputs": [],
   "source": [
    "# The following code uses ipywidgets to generate the interact dropdown menu and the corresponding pie chart and table based\n",
    "# on the user's selection. \n",
    "\n",
    "output = widgets.Output()\n",
    "plot_output = widgets.Output()\n",
    "output_agency = widgets.Output()\n",
    "\n",
    "dropdown_agency = widgets.Dropdown(options = utils.unique_sorted_values_plus_ALL(fresh_df.agency))\n",
    "\n",
    "\n",
    "def common_filtering(agency):\n",
    "    output.clear_output()\n",
    "    output_agency.clear_output()\n",
    "    plot_output.clear_output()\n",
    "    \n",
    "    if (agency == utils.ALL):\n",
    "        common_filter = fresh_df\n",
    "    else:\n",
    "        common_filter = fresh_df[(fresh_df.agency == agency)]\n",
    "        \n",
    "    with plot_output:\n",
    "\n",
    "        df = common_filter.fresh.value_counts().reset_index().rename(columns={'index':'status','fresh':'count'})\n",
    "\n",
    "        colors = ['gold', 'mediumturquoise', 'darkorange', 'lightgreen']\n",
    "\n",
    "        labels = df['status']\n",
    "        values= df['count']\n",
    "\n",
    "        fig = go.Figure(data=[go.Pie(labels=labels, values=values)])\n",
    "\n",
    "        fig.update_traces(hoverinfo='label+value', textinfo='percent', textfont_size=20,\n",
    "                          marker=dict(colors=colors, line=dict(color='#000000', width=2)))\n",
    "        fig.update_layout(\n",
    "            title=go.layout.Title(\n",
    "            text=\"The Datasets Are Up-to-Date\",\n",
    "            xref=\"paper\",\n",
    "            x=.5)\n",
    "        )\n",
    "        fig.show()\n",
    "        \n",
    "    with output_agency:\n",
    "        with pd.option_context(\"display.max_rows\", 10000):\n",
    "            if (agency == utils.ALL):\n",
    "                display(fresh_df)\n",
    "            else:\n",
    "                display(fresh_df[fresh_df.agency == agency])\n",
    "\n",
    "def dropdown_agency_eventhandler(change):\n",
    "    common_filtering(change.new)\n",
    "\n",
    "dropdown_agency.observe(dropdown_agency_eventhandler, names='value')\n",
    "\n",
    "display(dropdown_agency)\n",
    "\n",
    "display(plot_output)\n",
    "\n",
    "display(output_agency)"
   ]
  },
  {
   "cell_type": "code",
   "execution_count": null,
   "metadata": {
    "extensions": {
     "jupyter_dashboards": {
      "version": 1,
      "views": {
       "grid_default": {},
       "report_default": {}
      }
     }
    },
    "init_cell": true,
    "tags": [
     "remove_cell"
    ]
   },
   "outputs": [],
   "source": [
    "## data cleanup\n",
    "make_int = ['asset_columns', 'asset_rows']\n",
    "\n",
    "for col in make_int:\n",
    "    dfacts[col] = pd.to_numeric(dfacts[col])\n",
    "\n",
    "dfacts['date'] = pd.to_datetime(dfacts['date'])\n",
    "\n",
    "tables = dfacts[dfacts.derived_asset_type.isin([\"table\"])]\n",
    "na = dfacts.query('derived_asset_type == \"n/a\"')\n",
    "grouped = dfacts.groupby('asset_title')\n",
    "\n",
    "dnum_rows = {}\n",
    "\n",
    "for name, group in grouped:\n",
    "    temp = group[group['date'] == group['date'].max()].reset_index()\n",
    "    num_rows = temp.asset_rows[0]\n",
    "    agency = temp['agency'][0]\n",
    "    \n",
    "    dnum_rows[agency] = dnum_rows.get(agency, 0) + num_rows"
   ]
  },
  {
   "cell_type": "code",
   "execution_count": null,
   "metadata": {
    "extensions": {
     "jupyter_dashboards": {
      "version": 1,
      "views": {
       "grid_default": {},
       "report_default": {}
      }
     }
    },
    "init_cell": true,
    "tags": [
     "remove_cell"
    ]
   },
   "outputs": [],
   "source": [
    "# generates the dataframes necessary for the dataset vs rows scatter plot\n",
    "clean_count = merged_filter.groupby('agency_x').size().sort_values(ascending=True)\\\n",
    "    .reset_index().rename(columns={'agency_x':'agency', 0:'count'})\n",
    "\n",
    "df = pd.DataFrame.from_dict(dnum_rows, orient='index').rename_axis('agency').reset_index().rename(columns={0:'count'})\n",
    "\n",
    "clean_count.columns = ['agency', 'numdatasets']\n",
    "df.columns = ['agency', 'numrows']\n",
    "rv = pd.merge(df, clean_count, on='agency')\n",
    "\n",
    "rv['lognumrows'] = rv['numrows'].apply(lambda x: math.log(x))"
   ]
  },
  {
   "cell_type": "markdown",
   "metadata": {},
   "source": [
    "## Publishing Data"
   ]
  },
  {
   "cell_type": "markdown",
   "metadata": {},
   "source": [
    "Select an agency from the following dropdown menu to see how many datasets that agency has published in each year. "
   ]
  },
  {
   "cell_type": "code",
   "execution_count": null,
   "metadata": {
    "init_cell": true
   },
   "outputs": [],
   "source": [
    "# Generages dataframes necessary for interactive bar chart to see number of datasets published per agency per year. \n",
    "merged_filter = merged_filter[pd.notnull(merged_filter['date_made_public'])]\n",
    "merged_filter['year_made_public'] = merged_filter.date_made_public.dt.year.astype(int)\n",
    "\n",
    "yearly_totals_per_agency = merged_filter.groupby(['agency_x','year_made_public']).size().unstack().fillna(0)\n"
   ]
  },
  {
   "cell_type": "code",
   "execution_count": null,
   "metadata": {
    "init_cell": true
   },
   "outputs": [],
   "source": [
    "# code to visualize agency publishing and generate interactive dropdown \n",
    "\n",
    "pub_output = widgets.Output()\n",
    "bar_plot_output = widgets.Output()\n",
    "\n",
    "dropdown_agency_name = widgets.Dropdown(options = utils.unique_sorted_values_plus_ALL(\n",
    "                                                        yearly_totals_per_agency.index, all=False))\n",
    "\n",
    "\n",
    "def plot_agency_total(agency):\n",
    "    pub_output.clear_output()\n",
    "    bar_plot_output.clear_output()\n",
    "    \n",
    "    common_filter = yearly_totals_per_agency[(yearly_totals_per_agency.index == agency)]\n",
    "    cf = common_filter.loc[agency].reset_index().rename(columns={'year_made_public':'Year',\\\n",
    "                                                                agency:'Number of Datasets Published'})\n",
    "    \n",
    "    with bar_plot_output:\n",
    "\n",
    "        fig = go.Figure(data=[go.Bar(\n",
    "            x=cf['Year'],\n",
    "            y=cf['Number of Datasets Published'],\n",
    "            text=cf['Number of Datasets Published'],\n",
    "            textposition='auto')])\n",
    "\n",
    "        fig.update_layout(\n",
    "             title=go.layout.Title(\n",
    "                text=\"Total Datasets Published by the {}\".format(agency),\n",
    "                xref=\"paper\",\n",
    "                x=.5)\n",
    "        )\n",
    "        fig.show()\n",
    "\n",
    "def dropdown_agency_name_eventhandler(change):\n",
    "    plot_agency_total(change.new)\n",
    "        \n",
    "dropdown_agency_name.observe(dropdown_agency_name_eventhandler, names='value')\n",
    "        \n",
    "display(dropdown_agency_name)\n",
    "\n",
    "display(bar_plot_output)"
   ]
  },
  {
   "cell_type": "code",
   "execution_count": null,
   "metadata": {
    "extensions": {
     "jupyter_dashboards": {
      "version": 1,
      "views": {
       "grid_default": {},
       "report_default": {}
      }
     }
    },
    "init_cell": true,
    "tags": [
     "hide_input"
    ]
   },
   "outputs": [],
   "source": [
    "fig = go.Figure(data=go.Scatter(x=rv['numdatasets'],\n",
    "                                y=rv['lognumrows'],\n",
    "                                mode='markers',\n",
    "#                                 marker=dict(\n",
    "#                                     color=rv['numdatasets'], #set color equal to a variable\n",
    "#                                     colorscale='Jet', # one of plotly colorscales\n",
    "#                                     showscale=False\n",
    "#                                 ),\n",
    "#                                 marker_color=rv['lognumrows'],\n",
    "                                text=rv['agency'])) # hover text goes here\n",
    "\n",
    "fig.update_layout(\n",
    "     title=go.layout.Title(\n",
    "        text=\"Density of Agency Data: Total Number of Rows Compared to Number of Datasets\",\n",
    "        xref=\"paper\",\n",
    "        x=.5),\n",
    "    \n",
    "     xaxis=go.layout.XAxis(\n",
    "        title=go.layout.xaxis.Title(\n",
    "            text=\"Total Number of Datasets\",\n",
    "            font=dict(\n",
    "#                 family=\"Courier New, monospace\",\n",
    "                size=18,\n",
    "                color=\"#7f7f7f\"\n",
    "            )\n",
    "        )\n",
    "    ),\n",
    "    \n",
    "    yaxis=go.layout.YAxis(\n",
    "        title=go.layout.yaxis.Title(\n",
    "            text=\"Log Number of Total Rows\",\n",
    "            font=dict(\n",
    "#                 family=\"Courier New, monospace\",\n",
    "                size=18,\n",
    "                color=\"#7f7f7f\"\n",
    "            )\n",
    "        )\n",
    "    )\n",
    ")\n",
    "fig.update_layout(\n",
    "    autosize=False,\n",
    "    width=1000,\n",
    "    height=700,\n",
    "    margin=go.layout.Margin(\n",
    "        l=50,\n",
    "        r=50,\n",
    "        b=100,\n",
    "        t=100,\n",
    "        pad=4\n",
    "    ),\n",
    "#     paper_bgcolor=\"LightSteelBlue\",\n",
    ")\n",
    "\n",
    "fig.show()"
   ]
  },
  {
   "cell_type": "code",
   "execution_count": null,
   "metadata": {},
   "outputs": [],
   "source": []
  }
 ],
 "metadata": {
  "celltoolbar": "Initialization Cell",
  "extensions": {
   "jupyter_dashboards": {
    "activeView": "grid_default",
    "version": 1,
    "views": {
     "grid_default": {
      "cellMargin": 10,
      "defaultCellHeight": 20,
      "maxColumns": 12,
      "name": "grid",
      "type": "grid"
     },
     "report_default": {
      "name": "report",
      "type": "report"
     }
    }
   }
  },
  "hide_input": false,
  "kernelspec": {
   "display_name": "OpenDataDashbProd",
   "language": "python",
   "name": "opendatadashbprod"
  },
  "language_info": {
   "codemirror_mode": {
    "name": "ipython",
    "version": 3
   },
   "file_extension": ".py",
   "mimetype": "text/x-python",
   "name": "python",
   "nbconvert_exporter": "python",
   "pygments_lexer": "ipython3",
   "version": "3.7.4"
  },
  "nteract": {
   "version": "nteract-on-jupyter@2.1.3"
  }
 },
 "nbformat": 4,
 "nbformat_minor": 2
}
